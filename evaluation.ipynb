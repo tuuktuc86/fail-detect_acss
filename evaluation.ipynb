{
 "cells": [
  {
   "cell_type": "code",
   "execution_count": 6,
   "id": "d2369062",
   "metadata": {},
   "outputs": [
    {
     "name": "stdout",
     "output_type": "stream",
     "text": [
      "['episode000', 'episode001', 'episode002', 'episode003', 'episode004', 'episode005', 'episode006', 'episode007', 'episode008', 'episode009', 'episode010', 'episode011', 'episode012', 'episode013', 'episode014', 'episode015', 'episode016', 'episode017', 'episode018', 'episode019', 'episode020', 'episode021', 'episode022', 'episode023', 'episode024', 'episode025', 'episode026', 'episode027', 'episode028', 'episode029', 'episode030', 'episode031', 'episode032', 'episode033', 'episode034', 'episode035', 'episode036', 'episode037', 'episode038', 'episode039', 'episode040', 'episode041', 'episode042', 'episode043', 'episode044', 'episode045', 'episode046', 'episode047', 'episode048', 'episode049', 'episode050', 'episode051', 'episode052', 'episode053', 'episode054', 'episode055', 'episode056', 'episode057', 'episode058', 'episode059', 'episode060', 'episode061', 'episode062', 'episode063', 'episode064', 'episode065', 'episode066', 'episode067', 'episode068', 'episode069', 'episode070', 'episode071', 'episode072', 'episode073', 'episode074', 'episode075', 'episode076', 'episode077', 'episode078', 'episode079', 'episode080', 'episode081', 'episode082', 'episode083', 'episode084', 'episode085', 'episode086', 'episode087', 'episode088', 'episode089', 'episode090', 'episode091', 'episode092', 'episode093', 'episode094', 'episode095', 'episode096', 'episode097', 'episode098', 'episode099', 'episode100', 'episode101', 'episode102', 'episode103', 'episode104', 'episode105', 'episode106', 'episode107', 'episode108']\n",
      "(318, 11)\n",
      "[ 3.0280012e-01 -5.6915589e-02  1.1275961e+00  6.6436871e-07\n",
      "  9.9999994e-01 -3.4745012e-06  3.8833377e-06  1.0000000e+00\n",
      "  4.2091480e-01  2.2506712e-02  5.0053000e-01]\n",
      "[ 3.0280003e-01 -5.6915559e-02  1.1275964e+00  7.0907276e-07\n",
      "  9.9999988e-01 -3.2411465e-06  3.8638618e-06  1.0000000e+00\n",
      "  4.2091480e-01  2.2506712e-02  5.0053000e-01]\n"
     ]
    }
   ],
   "source": [
    "import numpy as np\n",
    "data = np.load(\"/AILAB-summer-school-2025/dataset_all.npz\")\n",
    "print(data.files)                # ['episode001', 'episode002']\n",
    "print(data[\"episode000\"].shape)  # (5, 11)\n",
    "print(data[\"episode000\"][0])\n",
    "print(data[\"episode000\"][2])\n",
    "#print(data[\"episode002\"].shape)  # (5, 11)"
   ]
  },
  {
   "cell_type": "code",
   "execution_count": 7,
   "id": "52e548ce",
   "metadata": {},
   "outputs": [
    {
     "data": {
      "text/plain": [
       "NpzFile '/AILAB-summer-school-2025/dataset_all.npz' with keys: episode000, episode001, episode002, episode003, episode004..."
      ]
     },
     "execution_count": 7,
     "metadata": {},
     "output_type": "execute_result"
    }
   ],
   "source": [
    "import numpy as np\n",
    "np.load(\"/AILAB-summer-school-2025/dataset_all.npz\")"
   ]
  },
  {
   "cell_type": "code",
   "execution_count": 8,
   "id": "272c1d2f",
   "metadata": {},
   "outputs": [
    {
     "name": "stdout",
     "output_type": "stream",
     "text": [
      "['episode000', 'episode001', 'episode002', 'episode003', 'episode004', 'episode005', 'episode006', 'episode007', 'episode008', 'episode009', 'episode010', 'episode011', 'episode012', 'episode013', 'episode014', 'episode015', 'episode016', 'episode017', 'episode018', 'episode019', 'episode020', 'episode021', 'episode022', 'episode023', 'episode024', 'episode025', 'episode026', 'episode027', 'episode028', 'episode029', 'episode030', 'episode031', 'episode032', 'episode033', 'episode034', 'episode035', 'episode036', 'episode037', 'episode038', 'episode039', 'episode040', 'episode041', 'episode042', 'episode043', 'episode044', 'episode045', 'episode046', 'episode047', 'episode048', 'episode049', 'episode050', 'episode051', 'episode052', 'episode053', 'episode054', 'episode055', 'episode056', 'episode057', 'episode058', 'episode059', 'episode060', 'episode061', 'episode062', 'episode063', 'episode064', 'episode065', 'episode066', 'episode067', 'episode068', 'episode069', 'episode070', 'episode071', 'episode072', 'episode073', 'episode074', 'episode075', 'episode076', 'episode077', 'episode078', 'episode079', 'episode080', 'episode081', 'episode082', 'episode083', 'episode084', 'episode085', 'episode086', 'episode087', 'episode088', 'episode089', 'episode090', 'episode091', 'episode092', 'episode093', 'episode094', 'episode095', 'episode096', 'episode097', 'episode098', 'episode099', 'episode100', 'episode101', 'episode102', 'episode103', 'episode104', 'episode105', 'episode106', 'episode107', 'episode108']\n"
     ]
    }
   ],
   "source": [
    "with np.load(\"/AILAB-summer-school-2025/dataset_all.npz\") as f:\n",
    "    print(f.files)  # 어떤 episode까지 있는지\n",
    "    arr = f[\"episode019\"]  # 에러 전까진 열림"
   ]
  },
  {
   "cell_type": "code",
   "execution_count": 9,
   "id": "7bf0301c",
   "metadata": {},
   "outputs": [],
   "source": [
    "with np.load(\"/AILAB-summer-school-2025/dataset_all.npz\") as f:\n",
    "    for k in f.files:\n",
    "        try:\n",
    "            _ = f[k]   # 실제로 로드 시도\n",
    "        except Exception as e:\n",
    "            print(\"에러:\", k, e)\n"
   ]
  },
  {
   "cell_type": "code",
   "execution_count": 6,
   "id": "94493c74",
   "metadata": {},
   "outputs": [
    {
     "name": "stdout",
     "output_type": "stream",
     "text": [
      "Keys: KeysView(NpzFile '/AILAB-summer-school-2025/simulation_traj_2_20250829_121225_len498_success/robot_state.npz' with keys: EE_pose, obs, applied_torque)\n",
      "EE_pose (346, 7) float32\n",
      "obs (346, 29) float32\n",
      "applied_torque (0,) float64\n"
     ]
    }
   ],
   "source": [
    "import numpy as np\n",
    "\n",
    "# 파일 로드\n",
    "data = np.load(\"/AILAB-summer-school-2025/simulation_traj_2_20250829_121225_len498_success/robot_state.npz\")\n",
    "\n",
    "# 키 목록 출력\n",
    "print(\"Keys:\", data.keys())\n",
    "\n",
    "# 각 key별 value의 shape와 dtype 확인\n",
    "for k in data.keys():\n",
    "    print(k, data[k].shape, data[k].dtype)\n",
    "# for i in range(10):\n",
    "#     print(data['episode000'][i])"
   ]
  }
 ],
 "metadata": {
  "kernelspec": {
   "display_name": "Python 3",
   "language": "python",
   "name": "python3"
  },
  "language_info": {
   "codemirror_mode": {
    "name": "ipython",
    "version": 3
   },
   "file_extension": ".py",
   "mimetype": "text/x-python",
   "name": "python",
   "nbconvert_exporter": "python",
   "pygments_lexer": "ipython3",
   "version": "3.10.12"
  }
 },
 "nbformat": 4,
 "nbformat_minor": 5
}
